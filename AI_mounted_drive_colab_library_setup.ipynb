{
  "nbformat": 4,
  "nbformat_minor": 0,
  "metadata": {
    "colab": {
      "provenance": [],
      "authorship_tag": "ABX9TyNxMZujkOP22M6g6mYFy3/B",
      "include_colab_link": true
    },
    "kernelspec": {
      "name": "python3",
      "display_name": "Python 3"
    },
    "language_info": {
      "name": "python"
    }
  },
  "cells": [
    {
      "cell_type": "markdown",
      "metadata": {
        "id": "view-in-github",
        "colab_type": "text"
      },
      "source": [
        "<a href=\"https://colab.research.google.com/github/taylan-sen/CIS490a_intro_ai/blob/main/AI_mounted_drive_colab_library_setup.ipynb\" target=\"_parent\"><img src=\"https://colab.research.google.com/assets/colab-badge.svg\" alt=\"Open In Colab\"/></a>"
      ]
    },
    {
      "cell_type": "markdown",
      "source": [
        "This notebook will show you how to install pip libraries to your google drive so that you don't have to reinstall them every time you want to run a colab notebook that needs external libraries. In summary, this notebook shows how to:\n",
        "\n",
        "* mount your google drive in a colab notebook\n",
        "* create a virtual python environment in a folder on your google drive\n",
        "* install python libraries using pip to your virtual env\n",
        "* add your installed libraries to the colab notebook path"
      ],
      "metadata": {
        "id": "-vTaDZ75ZJgZ"
      }
    },
    {
      "cell_type": "markdown",
      "source": [
        "This notebook was based on the medium article at:\n",
        "\n",
        "https://netraneupane.medium.com/how-to-install-libraries-permanently-in-google-colab-fb15a585d8a5"
      ],
      "metadata": {
        "id": "5hZI86JN5Ufo"
      }
    },
    {
      "cell_type": "markdown",
      "source": [
        "### Mount your google drive\n",
        "\n",
        "What this basically means is that you will give your colab notebook temporary access to your google drive. When you execute the cell below, you will need to give permission in the windows that pop up. You can tell if the drive successfully mounted by clicking on the folder icon on the left bar and ensuring that a folder called **drive** appears."
      ],
      "metadata": {
        "id": "mlAP16dpafBZ"
      }
    },
    {
      "cell_type": "code",
      "execution_count": 1,
      "metadata": {
        "colab": {
          "base_uri": "https://localhost:8080/"
        },
        "id": "158e3x_7LPN2",
        "outputId": "ab108976-7d0f-460f-b333-ad7a9e5697db"
      },
      "outputs": [
        {
          "output_type": "stream",
          "name": "stdout",
          "text": [
            "Mounted at /content/drive\n"
          ]
        }
      ],
      "source": [
        "# Run this everytime you want to mount your Google drive.\n",
        "from google.colab import drive\n",
        "drive.mount(\"/content/drive\")"
      ]
    },
    {
      "cell_type": "code",
      "source": [
        "# Run this once to install the virtualenv tool.\n",
        "!pip install virtualenv"
      ],
      "metadata": {
        "colab": {
          "base_uri": "https://localhost:8080/"
        },
        "id": "NDNEcZ9aL7A_",
        "outputId": "caa27529-bbee-4b77-ad5a-61d04bce0fce"
      },
      "execution_count": null,
      "outputs": [
        {
          "output_type": "stream",
          "name": "stdout",
          "text": [
            "Collecting virtualenv\n",
            "  Downloading virtualenv-20.24.6-py3-none-any.whl (3.8 MB)\n",
            "\u001b[2K     \u001b[90m━━━━━━━━━━━━━━━━━━━━━━━━━━━━━━━━━━━━━━━━\u001b[0m \u001b[32m3.8/3.8 MB\u001b[0m \u001b[31m34.0 MB/s\u001b[0m eta \u001b[36m0:00:00\u001b[0m\n",
            "\u001b[?25hCollecting distlib<1,>=0.3.7 (from virtualenv)\n",
            "  Downloading distlib-0.3.7-py2.py3-none-any.whl (468 kB)\n",
            "\u001b[2K     \u001b[90m━━━━━━━━━━━━━━━━━━━━━━━━━━━━━━━━━━━━━━━━\u001b[0m \u001b[32m468.9/468.9 kB\u001b[0m \u001b[31m40.5 MB/s\u001b[0m eta \u001b[36m0:00:00\u001b[0m\n",
            "\u001b[?25hRequirement already satisfied: filelock<4,>=3.12.2 in /usr/local/lib/python3.10/dist-packages (from virtualenv) (3.12.4)\n",
            "Requirement already satisfied: platformdirs<4,>=3.9.1 in /usr/local/lib/python3.10/dist-packages (from virtualenv) (3.11.0)\n",
            "Installing collected packages: distlib, virtualenv\n",
            "Successfully installed distlib-0.3.7 virtualenv-20.24.6\n"
          ]
        }
      ]
    },
    {
      "cell_type": "code",
      "source": [
        "# Run this once.\n",
        "# it will create a new virtual env, which basically means it creates a new\n",
        "# folder with all the files for a \"python environment\"\n",
        "!virtualenv /content/drive/MyDrive/colab_env"
      ],
      "metadata": {
        "colab": {
          "base_uri": "https://localhost:8080/"
        },
        "id": "xhTgM_UDLiZj",
        "outputId": "74671555-d05b-47e2-c653-b8c0eddee6ae"
      },
      "execution_count": null,
      "outputs": [
        {
          "output_type": "stream",
          "name": "stdout",
          "text": [
            "created virtual environment CPython3.10.12.final.0-64 in 13462ms\n",
            "  creator CPython3Posix(dest=/content/drive/MyDrive/colab_env2, clear=False, no_vcs_ignore=False, global=False)\n",
            "  seeder FromAppData(download=False, pip=bundle, setuptools=bundle, wheel=bundle, via=copy, app_data_dir=/root/.local/share/virtualenv)\n",
            "    added seed packages: pip==23.3.1, setuptools==68.2.2, wheel==0.41.2\n",
            "  activators BashActivator,CShellActivator,FishActivator,NushellActivator,PowerShellActivator,PythonActivator\n"
          ]
        }
      ]
    },
    {
      "cell_type": "code",
      "source": [
        "# Run this once.\n",
        "!source /content/drive/MyDrive/colab_env/bin/activate"
      ],
      "metadata": {
        "id": "oB8iPZQ0MK-a"
      },
      "execution_count": 8,
      "outputs": []
    },
    {
      "cell_type": "code",
      "source": [
        "# Install python libraries to your Google drive python env.\n",
        "# Here we install the two packages needed for our robot URDF viewer, pybullet\n",
        "# and imageio-ffmpeg.\n",
        "!source /content/drive/MyDrive/colab_env/bin/activate; pip install pybullet imageio-ffmpeg"
      ],
      "metadata": {
        "colab": {
          "base_uri": "https://localhost:8080/"
        },
        "id": "Q7IoxB3oMvjU",
        "outputId": "8ebc04e3-e46a-4e14-8abc-4a376b37937a"
      },
      "execution_count": null,
      "outputs": [
        {
          "output_type": "stream",
          "name": "stdout",
          "text": [
            "Requirement already satisfied: pybullet in ./drive/MyDrive/colab_env2/lib/python3.10/site-packages (3.2.5)\n",
            "Collecting imageio-ffmpeg\n",
            "  Downloading imageio_ffmpeg-0.4.9-py3-none-manylinux2010_x86_64.whl.metadata (1.7 kB)\n",
            "Requirement already satisfied: setuptools in ./drive/MyDrive/colab_env2/lib/python3.10/site-packages (from imageio-ffmpeg) (68.2.2)\n",
            "Downloading imageio_ffmpeg-0.4.9-py3-none-manylinux2010_x86_64.whl (26.9 MB)\n",
            "\u001b[2K   \u001b[90m━━━━━━━━━━━━━━━━━━━━━━━━━━━━━━━━━━━━━━━━\u001b[0m \u001b[32m26.9/26.9 MB\u001b[0m \u001b[31m47.2 MB/s\u001b[0m eta \u001b[36m0:00:00\u001b[0m\n",
            "\u001b[?25hInstalling collected packages: imageio-ffmpeg\n",
            "Successfully installed imageio-ffmpeg-0.4.9\n"
          ]
        }
      ]
    },
    {
      "cell_type": "code",
      "source": [
        "# Run this everytime to allow the notebook to access your installed libraries.\n",
        "import sys\n",
        "sys.path.append(\"/content/drive/MyDrive/colab_env/lib/python3.10/site-packages\")"
      ],
      "metadata": {
        "id": "dIjWuRHr3l4V"
      },
      "execution_count": 5,
      "outputs": []
    },
    {
      "cell_type": "code",
      "source": [
        "# test if install was successful\n",
        "import pybullet\n"
      ],
      "metadata": {
        "id": "Zms4_pSw6J17"
      },
      "execution_count": 12,
      "outputs": []
    }
  ]
}