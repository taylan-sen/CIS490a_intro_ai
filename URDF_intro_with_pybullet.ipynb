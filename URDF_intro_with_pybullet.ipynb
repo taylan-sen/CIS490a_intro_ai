{
  "nbformat": 4,
  "nbformat_minor": 0,
  "metadata": {
    "colab": {
      "provenance": [],
      "include_colab_link": true
    },
    "kernelspec": {
      "name": "python3",
      "display_name": "Python 3"
    },
    "language_info": {
      "name": "python"
    }
  },
  "cells": [
    {
      "cell_type": "markdown",
      "metadata": {
        "id": "view-in-github",
        "colab_type": "text"
      },
      "source": [
        "<a href=\"https://colab.research.google.com/github/taylan-sen/CIS490a_intro_ai/blob/main/URDF_intro_with_pybullet.ipynb\" target=\"_parent\"><img src=\"https://colab.research.google.com/assets/colab-badge.svg\" alt=\"Open In Colab\"/></a>"
      ]
    },
    {
      "cell_type": "markdown",
      "source": [],
      "metadata": {
        "id": "PBkGgy3npMVd"
      }
    },
    {
      "cell_type": "markdown",
      "source": [
        "#Introduction to URDF using colab and pybullet\n",
        "\n",
        "Robot hardware is expensive. It is also often much faster to test robots out in simulated environments before using them in the real world. **URDF** is a simple language for describing a robot's physical links and joints, and **pybullet** is a physics simulation environment that supports URDF that runs in jupyter/colab.\n",
        "\n",
        "**URDF** = Uniform Robot Description Format (this is a an extensible markup language for describing:\n",
        "1. Robot visual definition\n",
        "1. robot physical/collision properties\n",
        "\n",
        "**pybullet** = physics simulation environment (a python wrapper for bullet), which supports URDF and joint control, as well as provides graphical output through extensive camera controls.\n",
        "\n",
        "**ffmpeg** - video processor (produces mp4 video based on pybullet output)\n",
        "\n",
        "See http://wiki.ros.org/urdf/Tutorials for detailed description of urdf syntax.\n",
        "\n",
        "See https://pybullet.org/wordpress/index.php/forum-2/ for documentation on pybullet."
      ],
      "metadata": {
        "id": "b2Ij5bgQEgyq"
      }
    },
    {
      "cell_type": "markdown",
      "source": [
        "## Installing PyBullet\n",
        "\n",
        "Installing pybullet takes about 20 minutes. We don't want to have to go through this everytime we use this notebook in colab (remember that everytime you disconnect from a colab runtime the virtual machine environment that was set up for you, with all your manually installed python packages, gets deleted). There is a way to install pybullet once, then \"mount\" this installation each time you start up your notebook (which is a lot faster than reinstalling pybullet each time.  \n",
        "\n",
        "In order to do this, in summary we will:\n",
        "1. Allow this notebook to access our google drive (aka mount Google drive)\n",
        "1. We will install a tool for creating a new python environment called **virtualenv**\n",
        "1. We will create a new python virtual environment.\n",
        "1. We will install pybullet in this virtual environment."
      ],
      "metadata": {
        "id": "lkYZcIS4C1g-"
      }
    },
    {
      "cell_type": "code",
      "source": [
        "# Run this everytime\n",
        "from google.colab import drive\n",
        "drive.mount(\"/content/drive\")"
      ],
      "metadata": {
        "colab": {
          "base_uri": "https://localhost:8080/"
        },
        "id": "B0uuQl1SFrGt",
        "outputId": "290ea1da-6355-4900-80b5-d064c441b345"
      },
      "execution_count": 1,
      "outputs": [
        {
          "output_type": "stream",
          "name": "stdout",
          "text": [
            "Mounted at /content/drive\n"
          ]
        }
      ]
    },
    {
      "cell_type": "markdown",
      "source": [
        "* The two cells below should only be run once.\n",
        "* They create the python virtual environment on your google drive and install to it pybullet (and the ffmpeg video processor)."
      ],
      "metadata": {
        "id": "Oxlg88KKHzho"
      }
    },
    {
      "cell_type": "code",
      "source": [
        "# run this only once; comment it out after you run it\n",
        "!pip install virtualenv\n",
        "!virtualenv /content/drive/MyDrive/colab_env"
      ],
      "metadata": {
        "id": "_4OOIFZMGdW3"
      },
      "execution_count": null,
      "outputs": []
    },
    {
      "cell_type": "code",
      "source": [
        "# run this once; comment it out after you run it\n",
        "# Install pybullet and ffmpeg into the virtualenv\n",
        "# You need to do only once - not each time you open the notebook\n",
        "# It takes a while. (~15 minutes)\n",
        "!source /content/drive/MyDrive/colab_env/bin/activate; pip install pybullet imageio-ffmpeg"
      ],
      "metadata": {
        "id": "f6n6dw_obWHm",
        "colab": {
          "base_uri": "https://localhost:8080/"
        },
        "outputId": "52ad4c30-a525-4d7a-a408-f73e8302b86b"
      },
      "execution_count": 1,
      "outputs": [
        {
          "output_type": "stream",
          "name": "stdout",
          "text": [
            "Collecting pybullet\n",
            "  Downloading pybullet-3.2.5.tar.gz (80.5 MB)\n",
            "\u001b[2K     \u001b[90m━━━━━━━━━━━━━━━━━━━━━━━━━━━━━━━━━━━━━━━━\u001b[0m \u001b[32m80.5/80.5 MB\u001b[0m \u001b[31m9.9 MB/s\u001b[0m eta \u001b[36m0:00:00\u001b[0m\n",
            "\u001b[?25h  Preparing metadata (setup.py) ... \u001b[?25l\u001b[?25hdone\n",
            "Requirement already satisfied: imageio-ffmpeg in /usr/local/lib/python3.10/dist-packages (0.4.9)\n",
            "Requirement already satisfied: setuptools in /usr/local/lib/python3.10/dist-packages (from imageio-ffmpeg) (67.7.2)\n",
            "Building wheels for collected packages: pybullet\n",
            "  Building wheel for pybullet (setup.py) ... \u001b[?25l\u001b[?25hdone\n",
            "  Created wheel for pybullet: filename=pybullet-3.2.5-cp310-cp310-linux_x86_64.whl size=99850148 sha256=36459ca5ef790bba456dc6cda23189aaf820bb64ce8f0db167b5cffed248b892\n",
            "  Stored in directory: /root/.cache/pip/wheels/6b/fa/1a/c315a5133f0c9bf202a6daa5d70891120e7fe403e06e3407cc\n",
            "Successfully built pybullet\n",
            "Installing collected packages: pybullet\n",
            "Successfully installed pybullet-3.2.5\n"
          ]
        }
      ]
    },
    {
      "cell_type": "markdown",
      "source": [
        "* At this point our one-time installation is complete.  \n",
        "* Each time we reopen this notebook, we will need to run the cell below to link in the python virtualenv on our google drive to access pybullet."
      ],
      "metadata": {
        "id": "2YPg_EiDHLTI"
      }
    },
    {
      "cell_type": "code",
      "source": [
        "# Run this everytime\n",
        "# import our pybullet installation from our drive\n",
        "import sys\n",
        "sys.path.append(\"/content/drive/MyDrive/colab_env/lib/python3.10/site-packages\")"
      ],
      "metadata": {
        "id": "BSD393iLF25a"
      },
      "execution_count": 3,
      "outputs": []
    },
    {
      "cell_type": "code",
      "source": [
        "import pybullet as p              # this is the physics simulator & visualizer\n",
        "import pybullet_data              # tools to interact with datafiles (get path)\n",
        "import imageio_ffmpeg             # video transcoder\n",
        "import math                       # for access to trig (pi, cos)\n",
        "import numpy as np                # numerical python, fast matrix computation\n",
        "from PIL import Image # typo      # image processing\n",
        "import matplotlib.pyplot as plt   # plotting (plot a single frame)\n",
        "from base64 import b64encode      #\n",
        "from IPython.display import HTML  # to display html in markdown cells\n"
      ],
      "metadata": {
        "id": "eyHVSVINGRGu"
      },
      "execution_count": 4,
      "outputs": []
    },
    {
      "cell_type": "code",
      "source": [
        "# Write a custom robot URDF.\n",
        "#\n",
        "# Our robot will have a vertical cylinder base connected to a horizontal arm\n",
        "# through a revolute (hinge) joint rotating in the z-axis.\n",
        "#\n",
        "# ROBOT: myrobot\n",
        "#\n",
        "# JOINTS:               base_to_arm\n",
        "# LINKS:    base_link-----------------arm\n",
        "# SHAPE:    vertical                  horizontal\n",
        "#           cylinder                  cylinder\n",
        "#\n",
        "my_urdf = '''\n",
        "<?xml version=\"1.0\"?>\n",
        "<robot name=\"myrobot\">\n",
        "\n",
        "  <link name=\"base_link\">\n",
        "    <visual>\n",
        "      <geometry>\n",
        "        <cylinder length=\"0.05\" radius=\"0.1\"/>\n",
        "      </geometry>\n",
        "      <material name=\"blue\">\n",
        "        <color rgba=\"0 0 .8 1\"/>\n",
        "      </material>\n",
        "    </visual>\n",
        "    <collision>\n",
        "      <geometry>\n",
        "        <cylinder length=\"0.05\" radius=\"0.1\"/>\n",
        "      </geometry>\n",
        "    </collision>\n",
        "    <inertial>\n",
        "      <mass value=\"10\"/>\n",
        "      <inertia ixx=\"1.0\" ixy=\"0.0\" ixz=\"0.0\" iyy=\"1.0\" iyz=\"0.0\" izz=\"1.0\"/>\n",
        "    </inertial>\n",
        "  </link>\n",
        "\n",
        "  <link name=\"arm\">\n",
        "    <visual>\n",
        "      <geometry>\n",
        "        <box size=\"0.1 0.6 0.05\"/>\n",
        "      </geometry>\n",
        "      <material name=\"white\">\n",
        "        <color rgba=\"0.8 0.8 0.8 1\"/>\n",
        "      </material>\n",
        "      <origin rpy=\"0 0 0\" xyz=\"0 0.3 0.03\"/>\n",
        "    </visual>\n",
        "    <collision>\n",
        "      <geometry>\n",
        "        <box size=\"0.1 0.6 0.05\"/>\n",
        "      </geometry>\n",
        "      <origin rpy=\"0 0 0\" xyz=\"0 0.3 0.03\"/>\n",
        "    </collision>\n",
        "    <inertial>\n",
        "      <mass value=\"10\"/>\n",
        "      <inertia ixx=\"1.0\" ixy=\"0.0\" ixz=\"0.0\" iyy=\"1.0\" iyz=\"0.0\" izz=\"1.0\"/>\n",
        "    </inertial>\n",
        "  </link>\n",
        "\n",
        "  <joint name=\"base_to_arm\" type=\"revolute\">\n",
        "    <parent link=\"base_link\"/>\n",
        "    <child link=\"arm\"/>\n",
        "    <axis xyz=\"0 0 1\"/>\n",
        "    <origin rpy=\"0 0 0\" xyz=\"0 0 0\"/>\n",
        "    <limit effort=\"1000.0\" lower=\"0.0\" upper=\"3.14\" velocity=\"0.5\"/>\n",
        "  </joint>\n",
        "\n",
        "</robot>\n",
        "'''\n",
        "\n",
        "f = open('custom_robot1.urdf', 'w')\n",
        "f.write(my_urdf)\n",
        "f.close()\n",
        "\n",
        "with open('custom_robot1.urdf', 'w') as f:\n",
        "    f.write(my_urdf)"
      ],
      "metadata": {
        "id": "PFHtT1nyJNHV"
      },
      "execution_count": 8,
      "outputs": []
    },
    {
      "cell_type": "markdown",
      "source": [
        "What do each of the following URDF tags mean?\n",
        "* robot:\n",
        "  * link\n",
        "    * visual\n",
        "    * collision\n",
        "    * inertial\n",
        "  * joint\n",
        "    * parent\n",
        "    * child\n",
        "    * axis\n",
        "    * origin"
      ],
      "metadata": {
        "id": "ojlp6Ug5Ufq9"
      }
    },
    {
      "cell_type": "code",
      "source": [
        "# In this cell, we load our robot, set a camera point of view, then display\n",
        "# the robot by getting an image from pybullet and plotting it with matplotlib.\n",
        "#\n",
        "#---------------------------------------------------------------------\n",
        "# Start the pybullet env\n",
        "# add the directory that has our urdf file to the seach path\n",
        "p.connect(p.DIRECT) # or p.GUI for graphical version\n",
        "p.setAdditionalSearchPath(pybullet_data.getDataPath())\n",
        "p.setGravity(0, 0, -10)\n",
        "\n",
        "robot_id = p.loadURDF(\"custom_robot1.urdf\",\n",
        "                      basePosition=[1.400000, -0.200000, 0.650000],\n",
        "                      useFixedBase=True)\n",
        "p.resetJointState(robot_id, 0, math.pi/2) # set the starting joint position\n",
        "\n",
        "print('Num of joints in robot:', p.getNumJoints(robot_id))\n",
        "\n",
        "#---------------------------------------------------------------------\n",
        "# Set up the \"camera\" point of view\n",
        "cam_target_pos = [.95, -0.2, 0.2]\n",
        "cam_distance = 2.05\n",
        "cam_yaw, cam_pitch, cam_roll = -50, -40, 0\n",
        "cam_width, cam_height = 480, 360\n",
        "cam_up, cam_up_axis_idx = [0, 0, 1], 2\n",
        "cam_near_plane, cam_far_plane = 0.01, 100\n",
        "cam_fov = 60\n",
        "\n",
        "cam_view_params = (cam_target_pos, cam_distance, cam_yaw, cam_pitch, cam_roll,\n",
        "                   cam_up_axis_idx)\n",
        "cam_matrix_params = (cam_fov, cam_width*1./cam_height, cam_near_plane,\n",
        "                     cam_far_plane)\n",
        "\n",
        "#---------------------------------------------------------------------\n",
        "cam_view_matrix = p.computeViewMatrixFromYawPitchRoll(*cam_view_params)\n",
        "cam_projection_matrix = p.computeProjectionMatrixFOV(*cam_matrix_params)\n",
        "image = p.getCameraImage(cam_width, cam_height,\n",
        "                         cam_view_matrix, cam_projection_matrix\n",
        "                        )[2][:, :, :3]\n",
        "\n",
        "\n",
        "plt.imshow(Image.fromarray(image)) # show the last frame\n",
        "\n",
        "p.disconnect()"
      ],
      "metadata": {
        "colab": {
          "base_uri": "https://localhost:8080/",
          "height": 453
        },
        "id": "72UB9ZHCtwqT",
        "outputId": "a97a9d45-69a0-48d4-8644-a5ed980aabc9"
      },
      "execution_count": 9,
      "outputs": [
        {
          "output_type": "stream",
          "name": "stdout",
          "text": [
            "Num of joints in robot: 1\n"
          ]
        },
        {
          "output_type": "display_data",
          "data": {
            "text/plain": [
              "<Figure size 640x480 with 1 Axes>"
            ],
            "image/png": "[encoded data removed]"
          },
          "metadata": {}
        }
      ]
    },
    {
      "cell_type": "code",
      "source": [
        "#---------------------------------------------------------------------\n",
        "# Start the pybullet env\n",
        "# add the directory that has our urdf file to the seach path\n",
        "p.connect(p.DIRECT) # or p.GUI for graphical version\n",
        "p.setAdditionalSearchPath(pybullet_data.getDataPath())\n",
        "p.setGravity(0, 0, -10)\n",
        "\n",
        "robot_id = p.loadURDF(\"custom_robot1.urdf\",\n",
        "                      basePosition=[1.400000, -0.200000, 0.650000],\n",
        "                      useFixedBase=True)\n",
        "print('Num of joints in robot:', p.getNumJoints(robot_id))\n",
        "\n",
        "#---------------------------------------------------------------------\n",
        "# Set up the \"camera\" point of view\n",
        "cam_target_pos = [.95, -0.2, 0.2]\n",
        "cam_distance = 2.05\n",
        "cam_yaw, cam_pitch, cam_roll = -50, -40, 0\n",
        "cam_width, cam_height = 480, 360\n",
        "\n",
        "cam_up, cam_up_axis_idx = [0, 0, 1], 2\n",
        "cam_near_plane, cam_far_plane = 0.01, 100\n",
        "cam_fov = 60\n",
        "\n",
        "cam_view_params = (cam_target_pos, cam_distance, cam_yaw, cam_pitch, cam_roll,\n",
        "                   cam_up_axis_idx)\n",
        "cam_matrix_params = (cam_fov, cam_width*1./cam_height, cam_near_plane,\n",
        "                     cam_far_plane)\n",
        "\n",
        "#---------------------------------------------------------------------\n",
        "# Start the video filewriter\n",
        "vid = imageio_ffmpeg.write_frames('vid.mp4', (cam_width, cam_height), fps=30)\n",
        "vid.send(None) # seed the video writer with a blank frame\n",
        "\n",
        "#---------------------------------------------------------------------\n",
        "# run the simulation for n steps\n",
        "# PyBullet default simulation time step is 240fps,\n",
        "# but we want to record video at 30fps.\n",
        "\n",
        "n = 1200 # number of time steps to simulate\n",
        "\n",
        "for t in range(n):\n",
        "    print(f'\\rtimestep {t}...', end='')\n",
        "\n",
        "    # every 8 time steps, create one video frame\n",
        "    if t % 8 == 0:\n",
        "        cam_view_matrix = p.computeViewMatrixFromYawPitchRoll(*cam_view_params)\n",
        "        cam_projection_matrix = p.computeProjectionMatrixFOV(*cam_matrix_params)\n",
        "        image = p.getCameraImage(cam_width, cam_height,\n",
        "                                 cam_view_matrix, cam_projection_matrix\n",
        "                                 )[2][:, :, :3]\n",
        "        vid.send(np.ascontiguousarray(image))\n",
        "\n",
        "    # every 1200 time steps, joint will cycle from 0 to 180]\n",
        "    joint_angle = 0.5 * math.pi * (1 - math.cos(2*math.pi*t/1200))\n",
        "    p.setJointMotorControl2(bodyIndex=robot_id,\n",
        "                            jointIndex=0,\n",
        "                            controlMode=p.POSITION_CONTROL,\n",
        "                            targetPosition=joint_angle)\n",
        "    p.stepSimulation()\n",
        "\n",
        "plt.imshow(Image.fromarray(image)) # show the last frame\n",
        "\n",
        "vid.close()\n",
        "p.disconnect()"
      ],
      "metadata": {
        "colab": {
          "base_uri": "https://localhost:8080/",
          "height": 508
        },
        "id": "IUWjs7YNuPIF",
        "outputId": "fed49b34-0898-4a15-e4a5-ffd02d1d69d0"
      },
      "execution_count": 10,
      "outputs": [
        {
          "output_type": "stream",
          "name": "stderr",
          "text": [
            "WARNING:imageio_ffmpeg:IMAGEIO FFMPEG_WRITER WARNING: input image is not divisible by macro_block_size=16, resizing from (480, 360) to (480, 368) to ensure video compatibility with most codecs and players. To prevent resizing, make your input image divisible by the macro_block_size or set the macro_block_size to 1 (risking incompatibility).\n"
          ]
        },
        {
          "output_type": "stream",
          "name": "stdout",
          "text": [
            "Num of joints in robot: 1\n",
            "timestep 1199..."
          ]
        },
        {
          "output_type": "display_data",
          "data": {
            "text/plain": [
              "<Figure size 640x480 with 1 Axes>"
            ],
            "image/png": "[encoded data removed]"
          },
          "metadata": {}
        }
      ]
    },
    {
      "cell_type": "code",
      "source": [
        "# Play recorded video\n",
        "\n",
        "mp4 = open('vid.mp4', 'rb').read()\n",
        "data_url = \"data:video/mp4;base64,\" + b64encode(mp4).decode()\n",
        "HTML('<video width=480 controls><source src=\"%s\" type=\"video/mp4\"></video>' % data_url)"
      ],
      "metadata": {
        "colab": {
          "base_uri": "https://localhost:8080/",
          "height": 389
        },
        "id": "ruWhcfsFvF1b",
        "outputId": "711a9f4c-1151-49cf-978a-bfa88039129d"
      },
      "execution_count": 11,
      "outputs": [
        {
          "output_type": "execute_result",
          "data": {
            "text/plain": [
              "<IPython.core.display.HTML object>"
            ],
            "text/html": [
              "<video width=480 controls><source src=\"data:video/mp4;base64,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\" type=\"video/mp4\"></video>"
            ]
          },
          "metadata": {},
          "execution_count": 11
        }
      ]
    },
    {
      "cell_type": "markdown",
      "source": [
        "## Skills\n",
        "\n",
        "* Try changing the color of the base from blue to red.\n",
        "* Try changing the height of the base.\n",
        "* Try changing the length of the arm."
      ],
      "metadata": {
        "id": "UIR7ggSuNKmZ"
      }
    }
  ]
}