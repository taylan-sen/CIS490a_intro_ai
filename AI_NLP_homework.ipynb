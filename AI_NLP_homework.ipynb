{
  "nbformat": 4,
  "nbformat_minor": 0,
  "metadata": {
    "colab": {
      "provenance": [],
      "authorship_tag": "ABX9TyMj1MDVMzPp45ybYKqyx3f0",
      "include_colab_link": true
    },
    "kernelspec": {
      "name": "python3",
      "display_name": "Python 3"
    },
    "language_info": {
      "name": "python"
    }
  },
  "cells": [
    {
      "cell_type": "markdown",
      "metadata": {
        "id": "view-in-github",
        "colab_type": "text"
      },
      "source": [
        "<a href=\"https://colab.research.google.com/github/taylan-sen/CIS490a_intro_ai/blob/main/AI_NLP_homework.ipynb\" target=\"_parent\"><img src=\"https://colab.research.google.com/assets/colab-badge.svg\" alt=\"Open In Colab\"/></a>"
      ]
    },
    {
      "cell_type": "markdown",
      "source": [
        "# Natural Language Processing Assignment\n",
        "\n",
        "This assignment should be completed in your own copy of this notebook and submitted as an ipynb. (Those of you who were in class for the relevant lessons can cut and paste from your class notes notebooks into this notebook. If you missed class, you can use your friend's notes, but YOU MUST NOT CUT AND PASTE SOMEONE ELSE'S CODE.)  \n",
        "\n",
        "This assignment covers the three language models we learned:\n",
        "* [Bag of words](https://en.wikipedia.org/wiki/Bag-of-words_model)\n",
        "* [N-Gram](https://en.wikipedia.org/wiki/Word_n-gram_language_model) \\(using [nltk](https://www.nltk.org)\\)\n",
        "* [Word2Vec](https://en.wikipedia.org/wiki/Word2vec) \\(using [gensim](https://pypi.org/project/gensim/)\\)\n"
      ],
      "metadata": {
        "id": "0TbecjDouIZX"
      }
    },
    {
      "cell_type": "markdown",
      "source": [
        "## Part I. Bag of Words\n",
        "1. Create two bags of words:\n",
        "  * comp_words\n",
        "    * manually create a python list called ***comp_words*** which is a list of words that are specific to the computer field.\n",
        "  * hosp_words\n",
        "    * similarly create a python list called ***hosp_words*** for words specific to the hospitality industry (i.e. hotel, restaurants, tourism, etc.)\n",
        "  * Make sure each list has at least 15 words.\n",
        "1. Evaluate two websites with these bags of words:\n",
        "  1. Make sure you know how to create multiline strings in python (https://www.w3schools.com/python/gloss_python_multi_line_strings.asp)\n",
        "  1. Create two strings called cis_website_str, and hotel_website_str:\n",
        "    * each string should hold the ***text-only*** contents of the NU CIS and Hotel and Restaurant Management websites respectively. NOTE: You can get the text-only contents of a website by opening the website in your browser and selecting all (ctrl-a or cmd-a). The links of the departments are given below:\n",
        "      * https://www.niagara.edu/hotel-and-restaurant-management/\n",
        "      * https://www.niagara.edu/computer-and-information-sciences/\n",
        " 1. Count and print the number of words each website has in each bag of words model. (You should have four separate counts.)\n",
        " 1. Divide and print each of the above counts by the total number of words in its corresponding website string (i.e. len(cis_website_str) or len(hotel_website_str).\n",
        " 1. Write a few sentences reflecting on what these counts mean. Be sure to talk about any limitations, including the consequences of having a different number of words in each bag of words.\n",
        "\n",
        "\n"
      ],
      "metadata": {
        "id": "9cQBLDzuhGxJ"
      }
    },
    {
      "cell_type": "markdown",
      "source": [
        "## Part II. N-grams with nltk\n",
        "\n",
        "Execute the code cells below answering questions in the text cells as you go along."
      ],
      "metadata": {
        "id": "69Imyc7lIJ11"
      }
    },
    {
      "cell_type": "code",
      "source": [
        "from nltk.util import ngrams\n",
        "help(ngrams)"
      ],
      "metadata": {
        "id": "-NhdgsYaSSLt"
      },
      "execution_count": null,
      "outputs": []
    },
    {
      "cell_type": "code",
      "source": [
        "sent = \"when the purple eagle soared, I know the purple eagles were the best\"\n",
        "bigrams = list(ngrams(sent.split(), 2))\n",
        "for i in bigrams:\n",
        "  print(i)"
      ],
      "metadata": {
        "id": "8zsM3LHTOoOM"
      },
      "execution_count": null,
      "outputs": []
    },
    {
      "cell_type": "markdown",
      "source": [
        "QUESTION:\n",
        "In your own words, describe what the ngrams function does?  \n",
        "Is it possible to create triples of words (aka trigrams)? If so, give the python code for it."
      ],
      "metadata": {
        "id": "AGIlAI3ZTuAW"
      }
    },
    {
      "cell_type": "code",
      "source": [
        "# tokenize\n",
        "import nltk\n",
        "nltk.download('punkt')\n",
        "from nltk.tokenize import word_tokenize\n",
        "word_tokenize(sent)"
      ],
      "metadata": {
        "id": "1mYVL9oaR3b4"
      },
      "execution_count": null,
      "outputs": []
    },
    {
      "cell_type": "markdown",
      "source": [
        "QUESTION: What is the data type that word_tokenize takes as input, and what is the data type that it returns?"
      ],
      "metadata": {
        "id": "D9VwOaiTUbbi"
      }
    },
    {
      "cell_type": "code",
      "source": [
        "from nltk import FreqDist\n",
        "f1dist = FreqDist(word for word in word_tokenize(sent))\n",
        "print(f1dist['the'])"
      ],
      "metadata": {
        "id": "nblZqyRTRu_e"
      },
      "execution_count": null,
      "outputs": []
    },
    {
      "cell_type": "code",
      "source": [
        "f1dist.most_common()"
      ],
      "metadata": {
        "id": "N41jBWo4TM_L"
      },
      "execution_count": null,
      "outputs": []
    },
    {
      "cell_type": "code",
      "source": [
        "f2dist = FreqDist(bigrams)\n",
        "f2dist.most_common()"
      ],
      "metadata": {
        "id": "At93BOHwTTfe"
      },
      "execution_count": null,
      "outputs": []
    },
    {
      "cell_type": "code",
      "source": [
        "nltk.download('gutenberg')\n",
        "from nltk.corpus import gutenberg\n",
        "print(gutenberg.readme())\n",
        "#nltk.download('reuters')\n",
        "#from nltk.corpus import reuters\n",
        "#print(reuters.readme())\n"
      ],
      "metadata": {
        "id": "OPy7tUUpRKRr"
      },
      "execution_count": null,
      "outputs": []
    },
    {
      "cell_type": "code",
      "source": [
        "#sents = reuters.sents()\n",
        "sents = gutenberg.sents('melville-moby_dick.txt')\n",
        "print(type(sents))\n",
        "#print(help(sents))\n",
        "print(sents[64])"
      ],
      "metadata": {
        "id": "DJVfSai2UG3m"
      },
      "execution_count": null,
      "outputs": []
    },
    {
      "cell_type": "markdown",
      "source": [
        "QUESTION:  \n",
        "What type of data is stored in the Gutenberg corpus?  \n",
        "Look at several different sentences. Do you see any issues with creating unigrams and bigrams directly from the sents data?"
      ],
      "metadata": {
        "id": "3hIjscF3Vrqi"
      }
    },
    {
      "cell_type": "code",
      "source": [
        "unigrams = []\n",
        "bigrams = []\n",
        "for sent in sents:\n",
        "  unigrams += sent\n",
        "  bigrams += list(ngrams(sent, 2))\n",
        "f1dist = FreqDist(unigrams)\n",
        "f2dist = FreqDist(bigrams)\n",
        "print(f1dist)\n",
        "print(f2dist)"
      ],
      "metadata": {
        "id": "lm01kj9dU9kT"
      },
      "execution_count": null,
      "outputs": []
    },
    {
      "cell_type": "markdown",
      "source": [
        "QUESTION:  \n",
        "* How many different \"words\" are in Moby Dick?  \n",
        "* Using these words, how many different two word phrases can be produced?  \n",
        "* How many different two word phrases are there in Moby Dick?  "
      ],
      "metadata": {
        "id": "yoboB-AE7sxP"
      }
    },
    {
      "cell_type": "code",
      "source": [
        "help(f1dist.most_common)"
      ],
      "metadata": {
        "id": "_TaKro4wil4Q"
      },
      "execution_count": null,
      "outputs": []
    },
    {
      "cell_type": "code",
      "source": [
        "print(f1dist)\n",
        "print(f1dist.most_common(10))\n",
        "print('------------')\n",
        "print(f2dist.most_common(10))\n",
        "#f2dist.most_common()\n"
      ],
      "metadata": {
        "id": "zZPTxhFLgnJW"
      },
      "execution_count": null,
      "outputs": []
    },
    {
      "cell_type": "markdown",
      "source": [
        "QUESTION  \n",
        "What is the problem with the most common unigrams and bigrams? (That is, if we want to use the bigrams and trigrams to understand the semantic content of the text, what is problematic with the way things are in the data?)"
      ],
      "metadata": {
        "id": "5nEtRS6Tki3H"
      }
    },
    {
      "cell_type": "code",
      "source": [
        "# Lets remove \"low meaning\" words from the text\n",
        "nltk.download('stopwords')\n",
        "from nltk.corpus import stopwords\n",
        "stop_words = set(stopwords.words('english'))\n",
        "removal_list = list(stop_words)\n",
        "removal_list += ['\"','\"','-',\"'\",\",\",'—','lt','rt', '&', ';',',\"','!', '--', '?']\n",
        "removal_list"
      ],
      "metadata": {
        "id": "Z0U610qzlGl6"
      },
      "execution_count": null,
      "outputs": []
    },
    {
      "cell_type": "code",
      "source": [
        "# Re-generate unigrams and bigrams\n",
        "unigrams=[]\n",
        "bigrams=[]\n",
        "for sent in sents:\n",
        "  sent_new = []\n",
        "  for word in sent:\n",
        "    word_lower = word.lower()\n",
        "    if (word == '.') or (word_lower in removal_list):\n",
        "      continue\n",
        "    else:\n",
        "      sent_new.append(word_lower)\n",
        "  unigrams.extend(sent_new)\n",
        "  bigrams.extend(list(ngrams(sent_new, 2)))\n",
        "f1dist = FreqDist(unigrams)\n",
        "f2dist = FreqDist(bigrams)\n",
        "print(f1dist)\n",
        "print(f2dist)"
      ],
      "metadata": {
        "id": "y9laz4DHP3zj"
      },
      "execution_count": null,
      "outputs": []
    },
    {
      "cell_type": "code",
      "source": [
        "print(f1dist.most_common(5))\n",
        "print(f2dist.most_common(10))"
      ],
      "metadata": {
        "id": "OL_ch6Qefwaj"
      },
      "execution_count": null,
      "outputs": []
    },
    {
      "cell_type": "markdown",
      "source": [
        "![dict_within_dict.jpg](data:image/jpeg;base64,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)"
      ],
      "metadata": {
        "id": "HuZ55iaACYyw"
      }
    },
    {
      "cell_type": "code",
      "source": [
        "# Use a dict within a dict to allow us to calculate next word statistics.\n",
        "d = {}  # d{prefix:{suffix:count}} is a dict within a dict\n",
        "for prefix, suffix in f2dist:\n",
        "  if prefix in d:\n",
        "    d[prefix][suffix] = f2dist[prefix,suffix]\n",
        "  else:\n",
        "    d[prefix] = {suffix:f2dist[prefix,suffix]}\n",
        "d['captain']"
      ],
      "metadata": {
        "id": "xar1lJYfZooJ"
      },
      "execution_count": null,
      "outputs": []
    },
    {
      "cell_type": "markdown",
      "source": [
        "Note that above, calling dict d with the key \"captain\" (i.e. d[\"captain\"]) returns all the words that follow \"captain\" in Moby Dick, along with the count of the number of times they directly follow \"captain\".  \n",
        "* What word follows \"captain\" most often?  \n",
        "* Use dict d over and over to create \"the most probable\" ten word sentence that starts with \"captain\" relying only on bigram statistics.   \n"
      ],
      "metadata": {
        "id": "shJ8QrO8EnSV"
      }
    },
    {
      "cell_type": "markdown",
      "source": [
        "##Word2Vec\n",
        "\n",
        "* we first import gensim and then load a pretrained word2vec model created from a google news corpus\n"
      ],
      "metadata": {
        "id": "WH-CDWcsLE1v"
      }
    },
    {
      "cell_type": "code",
      "execution_count": null,
      "metadata": {
        "id": "HKJu1BHpuEMq"
      },
      "outputs": [],
      "source": [
        "# This load takes almost 10 minutes.\n",
        "import gensim.downloader as api\n",
        "wv = api.load('word2vec-google-news-300')"
      ]
    },
    {
      "cell_type": "code",
      "source": [
        "import numpy as np\n",
        "import math\n",
        "\n",
        "def cossim(a,b):\n",
        "  \"\"\"Function for Cosine Similarity.\n",
        "  Given two vectors a and b, returns a measure of how similar\n",
        "  they are. 0 = very different (i.e. orthogonal); 1 = very similar (parallel).\n",
        "  \"\"\"\n",
        "  return np.dot(a,b)/(np.linalg.norm(a)*np.linalg.norm(b))\n",
        "\n",
        "king = wv['king']\n",
        "man = wv['man']\n",
        "woman = wv['woman']\n",
        "queen = wv['queen']\n",
        "queen_prediction = king-man+woman\n",
        "\n",
        "\n",
        "actor = wv['actor']\n",
        "man = wv['man']\n",
        "woman = wv['woman']\n",
        "actress = wv['actress']\n",
        "actress_prediction = actor-man+woman\n",
        "\n",
        "print('queen_prediction, queen', cossim(queen,queen_prediction))\n",
        "print('king, queen', cossim(queen,king))\n",
        "print('king, man', cossim(man,king))\n",
        "print('king, woman', cossim(woman,king))\n",
        "print('woman, man', cossim(woman,man))\n",
        "print('man/2, man', cossim(man/2,man))\n",
        "print('man+1, man', cossim(man+1,man))\n",
        "\n",
        "print('actress_prediction, actress', cossim(actress_prediction,actress))\n",
        "print('actor, actress', cossim(actor,actress))\n",
        "print('actor, man', cossim(man,actor))\n",
        "print('actor, woman', cossim(woman,actor))"
      ],
      "metadata": {
        "id": "1joI7Kl51QHy"
      },
      "execution_count": null,
      "outputs": []
    },
    {
      "cell_type": "markdown",
      "source": [
        "For each of the print statements above, briefly write down:\n",
        "* what you expect to see\n",
        "* whether this is what you see\n",
        "* an explanation"
      ],
      "metadata": {
        "id": "cLwFiS4kGgwr"
      }
    }
  ]
}