{
  "nbformat": 4,
  "nbformat_minor": 0,
  "metadata": {
    "colab": {
      "provenance": [],
      "authorship_tag": "ABX9TyP2i/yiFK8RnPnGdBAj6VcK",
      "include_colab_link": true
    },
    "kernelspec": {
      "name": "python3",
      "display_name": "Python 3"
    },
    "language_info": {
      "name": "python"
    }
  },
  "cells": [
    {
      "cell_type": "markdown",
      "metadata": {
        "id": "view-in-github",
        "colab_type": "text"
      },
      "source": [
        "<a href=\"https://colab.research.google.com/github/taylan-sen/CIS490a_intro_ai/blob/main/AI_Machine_learning_Intro_Part2.ipynb\" target=\"_parent\"><img src=\"https://colab.research.google.com/assets/colab-badge.svg\" alt=\"Open In Colab\"/></a>"
      ]
    },
    {
      "cell_type": "markdown",
      "source": [
        "## Machine Learning Intro Part 2\n",
        "\n",
        "<img src=\"https://i.redd.it/k102dyo0yrn91.jpg\" height=\"300\">  \n",
        "\n",
        "\n",
        "accuracy  \n",
        "confusion matrix  \n",
        "\n",
        "generative vs. discriminative\n",
        "probability vs. class prediction\n",
        "log loss & probability\n",
        "\n",
        "training set  \n",
        "test set  \n",
        "cross validation  \n",
        "overfitting  \n",
        "regularization  \n",
        "controls  \n",
        "null deviance  \n",
        "preprocessing  \n"
      ],
      "metadata": {
        "id": "8ToKzYhrZfhy"
      }
    },
    {
      "cell_type": "code",
      "execution_count": 11,
      "metadata": {
        "colab": {
          "base_uri": "https://localhost:8080/"
        },
        "id": "Ct_wTKKbZX52",
        "outputId": "b7d3fff1-4db3-4494-ae60-98ada480e8ec"
      },
      "outputs": [
        {
          "output_type": "execute_result",
          "data": {
            "text/plain": [
              "-0.10536051565782628"
            ]
          },
          "metadata": {},
          "execution_count": 11
        }
      ],
      "source": [
        "import math\n",
        "math.log(.9)"
      ]
    }
  ]
}